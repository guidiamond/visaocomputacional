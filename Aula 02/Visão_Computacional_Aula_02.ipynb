{
  "nbformat": 4,
  "nbformat_minor": 0,
  "metadata": {
    "colab": {
      "name": "Visão_Computacional_Aula_02.ipynb",
      "provenance": [],
      "collapsed_sections": [],
      "toc_visible": true
    },
    "kernelspec": {
      "name": "python3",
      "display_name": "Python 3"
    }
  },
  "cells": [
    {
      "cell_type": "markdown",
      "metadata": {
        "id": "nxY7Hh85nCjZ",
        "colab_type": "text"
      },
      "source": [
        "## **VISÃO COMPUTACIONAL - AULA 02**\n",
        "\n",
        "**Objetivos da aula:**\n",
        "\n",
        "*   apreender o conceito de espaço de cor\n",
        "*   conhecer e praticar com os espaços de cores RGB/BGR, HSV/HLS, RGBA e YUV\n",
        "\n",
        "\n",
        "\n",
        "\n",
        "\n",
        "\n",
        "\n",
        "\n",
        "\n"
      ]
    },
    {
      "cell_type": "markdown",
      "metadata": {
        "id": "1tYB1S0UYz0C",
        "colab_type": "text"
      },
      "source": [
        "## **ESPAÇOS DE CORES BGR/RGB**\n",
        "\n",
        "Um **espaço de cores (COLOR SPACE)** é um espaço de coordenadas numéricas onde as cores de uma imagem pode ser representadas.\n",
        "\n",
        "A mudança do espaço de cor de uma imagem pode ser realizada pela chamada da função **cv.cvtColor(imagem, flag)**, onde flag pode ser qualquer uma das constantes instaladas no sistema, conforme lista abaixo. Por exemplo, para converter de BGR (BLUE-GREEN-RED) para níveis de cinza (GRAY) usamos a constante **cv.COLOR_BGR2GRAY**. "
      ]
    },
    {
      "cell_type": "code",
      "metadata": {
        "id": "31rK9yZ4Y_RF",
        "colab_type": "code",
        "colab": {}
      },
      "source": [
        "#modos de conversão\n",
        "import cv2 as cv \n",
        "flags = [i for i in dir(cv) if i.startswith('COLOR_')] \n",
        "for c in range(len(flags)):\n",
        "  print(flags[c])"
      ],
      "execution_count": null,
      "outputs": []
    },
    {
      "cell_type": "markdown",
      "metadata": {
        "id": "tft5mm649Z6y",
        "colab_type": "text"
      },
      "source": [
        "A conversão pode ser feita aplicando-se diretamente a funções sobre toda a imagem:"
      ]
    },
    {
      "cell_type": "code",
      "metadata": {
        "id": "PcKQ9JF49kNY",
        "colab_type": "code",
        "colab": {}
      },
      "source": [
        "import cv2 as cv\n",
        "from google.colab.patches import cv2_imshow\n",
        "import sys\n",
        "\n",
        "img = cv.imread(\"lena.jpg\")\n",
        "if img is None:\n",
        "    sys.exit(\"Could not read the image.\")\n",
        "cv2_imshow(img)\n",
        "img_gray = cv.cvtColor(img, cv.COLOR_BGR2GRAY)\n",
        "cv2_imshow(img_gray)"
      ],
      "execution_count": null,
      "outputs": []
    },
    {
      "cell_type": "markdown",
      "metadata": {
        "id": "uvr53RMb_GRN",
        "colab_type": "text"
      },
      "source": [
        "Se for necessário, a conversão pode ser feita pixel a pixel, conforme o exemplo de conversão de cores abaixo:"
      ]
    },
    {
      "cell_type": "code",
      "metadata": {
        "id": "vtHdI9BO_PFS",
        "colab_type": "code",
        "colab": {}
      },
      "source": [
        "import numpy as np\n",
        "\n",
        "color = np.uint8([[[0,255,0 ]]])\n",
        "color_gray = cv.cvtColor(color,cv.COLOR_BGR2GRAY)\n",
        "print( color_gray)\n"
      ],
      "execution_count": null,
      "outputs": []
    },
    {
      "cell_type": "markdown",
      "metadata": {
        "id": "Qr4YpV-D_yg1",
        "colab_type": "text"
      },
      "source": [
        "## **============ EXERCÍCIO ===================**\n",
        "\n",
        "Capturar novamente a imagem lena.jpg (em cores) para níveis de cinza, fazendo o processamentoindividual de cada pixel. \n"
      ]
    },
    {
      "cell_type": "code",
      "metadata": {
        "id": "0dcVHoSZAAAU",
        "colab_type": "code",
        "colab": {}
      },
      "source": [
        "#sua solução"
      ],
      "execution_count": null,
      "outputs": []
    },
    {
      "cell_type": "markdown",
      "metadata": {
        "id": "7Y7ERk0yIci_",
        "colab_type": "text"
      },
      "source": [
        "## **ESPAÇOS DE CORES BGR/RGB**\n",
        "\n",
        "O espaço de cores mais comum em OpenCV é o espaço BGR (BLUE-GREEN-RED), que é uma variação de armazenamento do bem-conhecido sistema RGB (RED-GREEN-BLUE). Nestes dois espaços de cores, os pixels das imagens são armazenados como triplas [b,g,r] e [r,g,b], com cada componente variando de 0 a 255 normalmente. Existem, também, imagens onde as componentes variam de 0.0 a 1.0.\n"
      ]
    },
    {
      "cell_type": "code",
      "metadata": {
        "id": "YY9G4c-jJkhe",
        "colab_type": "code",
        "colab": {}
      },
      "source": [
        "import cv2 as cv\n",
        "from google.colab.patches import cv2_imshow\n",
        "import sys\n",
        "\n",
        "img = cv.imread(\"rgb.jpg\")\n",
        "if img is None:\n",
        "    sys.exit(\"Could not read the image.\")\n",
        "cv2_imshow(img)"
      ],
      "execution_count": null,
      "outputs": []
    },
    {
      "cell_type": "markdown",
      "metadata": {
        "id": "gi3BWLkKJlKj",
        "colab_type": "text"
      },
      "source": [
        "Existem duas teorias básicas pela grande adoção do BGR em OpenCV: (1) a transferência de cores entre a memória RAM e o conversores RAMDAC das placas VGA mais antigas ficava muito mais eficiente com os bits de cores alinhados na forma BGR. (2) a ordem BGR era o formato mais comum entre os produtos de imagens do início da OpenCV.\n",
        "\n",
        "Abaixo, temos a diferença entre os dois espaços de cor (BGR e, depois RGB).\n"
      ]
    },
    {
      "cell_type": "code",
      "metadata": {
        "id": "2LEfXMkIPiuA",
        "colab_type": "code",
        "colab": {}
      },
      "source": [
        "import cv2 as cv\n",
        "from google.colab.patches import cv2_imshow\n",
        "import sys\n",
        "\n",
        "img_bgr = cv.imread(\"lena.jpg\")\n",
        "if img is None:\n",
        "    sys.exit(\"Could not read the image.\")\n",
        "cv2_imshow(img_bgr)\n",
        "img_rgb = cv.cvtColor(img, cv.COLOR_BGR2RGB)\n",
        "cv2_imshow(img_rgb)"
      ],
      "execution_count": null,
      "outputs": []
    },
    {
      "cell_type": "markdown",
      "metadata": {
        "id": "5nIWiiOsGnDK",
        "colab_type": "text"
      },
      "source": [
        "## **============ EXERCÍCIO ===================**\n",
        "\n",
        "Sabemos que o espaço RGB é uma \"forma\" de inversão de alinhamento de componentes de cores do BGR. Porém, ao converter uma imagem de BGR ou RGB para níveis de cinza, será que ocorre alguma diferença ?"
      ]
    },
    {
      "cell_type": "code",
      "metadata": {
        "id": "TjlLwUf6HAN3",
        "colab_type": "code",
        "colab": {}
      },
      "source": [
        "#sua resposta"
      ],
      "execution_count": null,
      "outputs": []
    },
    {
      "cell_type": "markdown",
      "metadata": {
        "id": "GsnjqvWUJ-Fs",
        "colab_type": "text"
      },
      "source": [
        "## **ESPAÇOS DE CORES HSV**\n",
        "\n",
        "O espaço de cores HSV (HUE-SATURATION-VALUE)(MATIZ-SATURAÇÃO-VALOR) também é um dos mais comuns em OpenCV, especialmente quando estamos realizando procedimentos de rastreamento tracking (rastreamento de objetos).\n",
        "\n",
        "Abaixo, temos as diferencás entre as representações nos espaços RGB e HSV:"
      ]
    },
    {
      "cell_type": "code",
      "metadata": {
        "id": "HHUfCIs4KqzX",
        "colab_type": "code",
        "colab": {}
      },
      "source": [
        "import cv2 as cv\n",
        "from google.colab.patches import cv2_imshow\n",
        "import sys\n",
        "\n",
        "img = cv.imread(\"hsv.jpg\")\n",
        "if img is None:\n",
        "    sys.exit(\"Could not read the image.\")\n",
        "cv2_imshow(img)"
      ],
      "execution_count": null,
      "outputs": []
    },
    {
      "cell_type": "markdown",
      "metadata": {
        "id": "R2DtHXQENhNG",
        "colab_type": "text"
      },
      "source": [
        "## **============ EXERCÍCIOS ===================**\n",
        "\n",
        "1. Converter a imagem lena.jpg do espaço BGR para HSV."
      ]
    },
    {
      "cell_type": "code",
      "metadata": {
        "id": "vXF6uwkvNpyJ",
        "colab_type": "code",
        "colab": {}
      },
      "source": [
        "#sua solução"
      ],
      "execution_count": null,
      "outputs": []
    },
    {
      "cell_type": "markdown",
      "metadata": {
        "id": "qHanrF_uN1Jk",
        "colab_type": "text"
      },
      "source": [
        "2. Extrair os canais de matiz (H), Saturation (S) e Value (V) e da conversão anterior e exibí-los."
      ]
    },
    {
      "cell_type": "code",
      "metadata": {
        "id": "CuVmZzOJOExc",
        "colab_type": "code",
        "colab": {}
      },
      "source": [
        "#sua solução"
      ],
      "execution_count": null,
      "outputs": []
    },
    {
      "cell_type": "markdown",
      "metadata": {
        "id": "w3zgRUehOf1Y",
        "colab_type": "text"
      },
      "source": [
        "3. Usando a teoria do espaço de cores HSV, produza uma versão binarizada da imagem lena.jpg."
      ]
    },
    {
      "cell_type": "code",
      "metadata": {
        "id": "bvl2nVh5Orgr",
        "colab_type": "code",
        "colab": {}
      },
      "source": [
        "#sua solução"
      ],
      "execution_count": null,
      "outputs": []
    },
    {
      "cell_type": "markdown",
      "metadata": {
        "id": "1kZJlRBmPDjO",
        "colab_type": "text"
      },
      "source": [
        "4. Como você usaria a teoria do espaço de cor HSV para colorizar uma imagem em níveis de cinza ?"
      ]
    },
    {
      "cell_type": "code",
      "metadata": {
        "id": "dRcYXk1ZPM4l",
        "colab_type": "code",
        "colab": {}
      },
      "source": [
        "#sua solução"
      ],
      "execution_count": null,
      "outputs": []
    },
    {
      "cell_type": "markdown",
      "metadata": {
        "id": "LXtGH1qlqCr9",
        "colab_type": "text"
      },
      "source": [
        "Uma variação do espaço de cores HSV ((HUE-SATURATION-VALUE) é o HSL (HUE-SATURATION-LIGHTNESS). Abaixo, temos uma comparação entre eles:"
      ]
    },
    {
      "cell_type": "code",
      "metadata": {
        "id": "VZIWGZJ-MY-j",
        "colab_type": "code",
        "colab": {}
      },
      "source": [
        "import cv2 as cv\n",
        "from google.colab.patches import cv2_imshow\n",
        "import sys\n",
        "\n",
        "img = cv.imread(\"hslhsv.jpg\")\n",
        "if img is None:\n",
        "    sys.exit(\"Could not read the image.\")\n",
        "cv2_imshow(img)"
      ],
      "execution_count": null,
      "outputs": []
    },
    {
      "cell_type": "markdown",
      "metadata": {
        "id": "Nmp1WKdQO8hz",
        "colab_type": "text"
      },
      "source": [
        "## **============ EXERCÍCIOS ===================**\n",
        "\n",
        "1. Converter a imagem lena.jpg para os espaços de cores HSV e HSL (em OpenCV, HSL é chamado HLS) e compare os resultados."
      ]
    },
    {
      "cell_type": "code",
      "metadata": {
        "id": "OlU46JMFPlYq",
        "colab_type": "code",
        "colab": {}
      },
      "source": [
        "#sua solução"
      ],
      "execution_count": null,
      "outputs": []
    },
    {
      "cell_type": "markdown",
      "metadata": {
        "id": "GDr9hcUwPoKW",
        "colab_type": "text"
      },
      "source": [
        "2. Usando a teoria do espaço de cores HSL, produza uma versão binarizada da imagem lena.jpg."
      ]
    },
    {
      "cell_type": "code",
      "metadata": {
        "id": "hpQjDNV6P4O2",
        "colab_type": "code",
        "colab": {}
      },
      "source": [
        "#sua solução"
      ],
      "execution_count": null,
      "outputs": []
    },
    {
      "cell_type": "markdown",
      "metadata": {
        "id": "Ur38R-16QLLc",
        "colab_type": "text"
      },
      "source": [
        "3. Como você usaria a teoria do espaço de cor HSV para colorizar uma imagem em níveis de cinza ?"
      ]
    },
    {
      "cell_type": "code",
      "metadata": {
        "id": "wSb6UPRPQNLd",
        "colab_type": "code",
        "colab": {}
      },
      "source": [
        "#sua solução"
      ],
      "execution_count": null,
      "outputs": []
    },
    {
      "cell_type": "markdown",
      "metadata": {
        "id": "gOAtXnbhQzAB",
        "colab_type": "text"
      },
      "source": [
        "## **OUTROS ESPAÇOS**\n",
        "\n",
        "Normalmente, para grande parte das aplicações práticas em Processamento de Imagens e Visão Computacional, os espaços de cores RGB/BGR e HSV são suficientes. Porém, há varios outros espaços de cores.\n",
        "\n",
        "Um deles é o **RGBA**, onde acrescentamos um canal A para indicar a transparência ou opacidade da cor RGB."
      ]
    },
    {
      "cell_type": "markdown",
      "metadata": {
        "id": "aByPgP8mRrgm",
        "colab_type": "text"
      },
      "source": [
        "## **============ EXERCÍCIO ===================**\n",
        "\n",
        "Converta a imagem lena.jpg do espaço BGR para o espaço RGBA. Extraia os canais R,G,B e A e exiba cada um deles. "
      ]
    },
    {
      "cell_type": "code",
      "metadata": {
        "id": "vJTN1-FISW7c",
        "colab_type": "code",
        "colab": {}
      },
      "source": [
        "#sua solução"
      ],
      "execution_count": null,
      "outputs": []
    },
    {
      "cell_type": "markdown",
      "metadata": {
        "id": "NOCOXL2USaiK",
        "colab_type": "text"
      },
      "source": [
        "Outro espaço que pode aparecer é o **YUV**. "
      ]
    },
    {
      "cell_type": "markdown",
      "metadata": {
        "id": "6GN07jI9SimV",
        "colab_type": "text"
      },
      "source": [
        "## **============ EXERCÍCIO ===================**\n",
        "\n",
        "Defina o que é o espaço de cores YUV. Converta a imagem lena.jpog para YUV e exiba o resultado. Extraia os canais YUV e exiba cada um deles separadamente."
      ]
    },
    {
      "cell_type": "code",
      "metadata": {
        "id": "0sdN5TAPS2hj",
        "colab_type": "code",
        "colab": {}
      },
      "source": [
        "#sua solução"
      ],
      "execution_count": null,
      "outputs": []
    }
  ]
}