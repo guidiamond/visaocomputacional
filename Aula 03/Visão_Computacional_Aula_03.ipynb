{
  "nbformat": 4,
  "nbformat_minor": 0,
  "metadata": {
    "colab": {
      "name": "Visão_Computacional_Aula_03.ipynb",
      "provenance": [],
      "collapsed_sections": [],
      "include_colab_link": true
    },
    "kernelspec": {
      "name": "python3",
      "display_name": "Python 3"
    }
  },
  "cells": [
    {
      "cell_type": "markdown",
      "metadata": {
        "id": "view-in-github",
        "colab_type": "text"
      },
      "source": [
        "<a href=\"https://colab.research.google.com/github/lucianosilva-github/visaocomputacional/blob/master/Aula%2003/Visa%CC%83o_Computacional_Aula_03.ipynb\" target=\"_parent\"><img src=\"https://colab.research.google.com/assets/colab-badge.svg\" alt=\"Open In Colab\"/></a>"
      ]
    },
    {
      "cell_type": "markdown",
      "metadata": {
        "id": "nxY7Hh85nCjZ"
      },
      "source": [
        "## **VISÃO COMPUTACIONAL - AULA 03**\n",
        "\n",
        "**Objetivos da aula:**\n",
        "\n",
        "*   conhecer o problema de intensificação de contraste\n",
        "*   desenvolver solução para o problema de intensificação de contraste baseada em processamento puntual\n",
        "*   conhecer o conceito de histograma de imagens\n",
        "*   aplicar equalização de histogramas para intensificar contraste\n",
        "\n",
        "\n",
        "\n",
        "\n",
        "\n",
        "\n",
        "\n",
        "\n",
        "\n"
      ]
    },
    {
      "cell_type": "markdown",
      "metadata": {
        "id": "1tYB1S0UYz0C"
      },
      "source": [
        "## **PROBLEMA DE INTENSIFICAÇÃO DE CONTRASTE**\n",
        "\n",
        "Vamos abrir e analisar visualmente a imagem abaixo... perceptualmente, qual o problema que ela apresenta ?"
      ]
    },
    {
      "cell_type": "code",
      "metadata": {
        "id": "FWVD8KQXTwPc"
      },
      "source": [
        "import cv2\n",
        "from google.colab.patches import cv2_imshow\n",
        "import sys\n",
        "\n",
        "img = cv2.cvtColor(cv2.imread(\"lenabc.png\"), cv2.COLOR_BGR2GRAY)\n",
        "if img is None:\n",
        "    sys.exit(\"Could not read the image.\")\n",
        "cv2_imshow(img)"
      ],
      "execution_count": null,
      "outputs": []
    },
    {
      "cell_type": "markdown",
      "metadata": {
        "id": "XL9b-JxvUEvR"
      },
      "source": [
        "A imagem acima possui um problema comum chamado baixo contraste. Quando isto ocorre, temos uma concentração de cores (no caso acima, níveis de cinza) numa determinada região da imagem. "
      ]
    },
    {
      "cell_type": "markdown",
      "metadata": {
        "id": "Qr4YpV-D_yg1"
      },
      "source": [
        "## **EXERCÍCIO**\n",
        "\n",
        "A estratégia básica para intensificar contraste é diminuir esta concentração, aumentando a distância entre as cores dos pixels da imagem. Utilizando o código abaixo, implemente a seguinte estratégia:\n",
        "\n",
        "*   pixels \"escuros\" da imagem devem ficar mais escuros (ex. 20% mais escuros)\n",
        "*   pixels \"claros\" da imagem devem ficar mais claros (ex. 20% mais claros)\n",
        "\n",
        "\n"
      ]
    },
    {
      "cell_type": "code",
      "metadata": {
        "id": "0dcVHoSZAAAU"
      },
      "source": [
        "import cv2\n",
        "from google.colab.patches import cv2_imshow\n",
        "import sys\n",
        "import numpy as np\n",
        "\n",
        "img = cv2.cvtColor(cv2.imread(\"lenabc.png\"), cv2.COLOR_BGR2GRAY)\n",
        "if img is None:\n",
        "    sys.exit(\"Could not read the image.\")\n",
        "cv2_imshow(img)\n",
        "\n",
        "#digite sua solução aqui\n",
        "    \n"
      ],
      "execution_count": null,
      "outputs": []
    },
    {
      "cell_type": "markdown",
      "metadata": {
        "id": "75D89PBFWVtn"
      },
      "source": [
        "## **HISTOGRAMAS DE IMAGENS**\n",
        "\n",
        "Percebemos que a estratégia anterior não solucinou de maneira adequada o problema da intensificação de contraste, pois estamos aumentando a distância de somente duas classes de cor (\"claro\" e \"escuro\"). Com a utilização do conceito de histograma, vamos conseguir analisar melhor a distribuição de cores e atuar em cima da distribuição de cores para intensificar constraste.\n",
        "\n",
        "Um histograma de cores nos mostra qual é a quantidade de pixels por cada cor. Abaixo, temos um exemplo de como calcular o histograma de cores de uma imagem:"
      ]
    },
    {
      "cell_type": "code",
      "metadata": {
        "id": "g_fpOmSAXa7k"
      },
      "source": [
        "import cv2\n",
        "from google.colab.patches import cv2_imshow\n",
        "import sys\n",
        "import numpy as np\n",
        "from matplotlib import pyplot as plt\n",
        "%matplotlib inline\n",
        "\n",
        "img = cv2.cvtColor(cv2.imread(\"lenagray.png\"), cv2.COLOR_BGR2GRAY)\n",
        "if img is None:\n",
        "    sys.exit(\"Could not read the image.\")\n",
        "cv2_imshow(img)\n",
        "h=plt.hist(img.ravel(),bins=2,range=[0,255]) #ravel() transforma a imagem num vetor 1D\n",
        "plt.show()"
      ],
      "execution_count": null,
      "outputs": []
    },
    {
      "cell_type": "markdown",
      "metadata": {
        "id": "yV1JjxgfaVbX"
      },
      "source": [
        "## **ANALISANDO A IMAGEM POR HISTOGRAMAS**\n",
        "\n",
        "Quando uma imagem nos parece nítida, possivelmente ela terá uma boa distribuição de cores. "
      ]
    },
    {
      "cell_type": "code",
      "metadata": {
        "id": "TKtzAe40d7H5"
      },
      "source": [
        "import cv2\n",
        "from google.colab.patches import cv2_imshow\n",
        "import sys\n",
        "import numpy as np\n",
        "from matplotlib import pyplot as plt\n",
        "%matplotlib inline\n",
        "\n",
        "img = cv2.cvtColor(cv2.imread(\"lenagray.png\"), cv2.COLOR_BGR2GRAY)\n",
        "if img is None:\n",
        "    sys.exit(\"Could not read the image.\")\n",
        "cv2_imshow(img)\n",
        "plt.hist(img.ravel(),bins=256,range=[0,255]) #ravel() transforma a imagem num vetor 1D\n",
        "plt.show()"
      ],
      "execution_count": null,
      "outputs": []
    },
    {
      "cell_type": "markdown",
      "metadata": {
        "id": "udUL822md5CR"
      },
      "source": [
        "Porém, se usarmos imagens mais claras ou mais escuras, teremos concentrações em determinadas regiões do histograma."
      ]
    },
    {
      "cell_type": "code",
      "metadata": {
        "id": "stk4OnW7cKPz"
      },
      "source": [
        "import cv2\n",
        "from google.colab.patches import cv2_imshow\n",
        "import sys\n",
        "import numpy as np\n",
        "from matplotlib import pyplot as plt\n",
        "%matplotlib inline\n",
        "\n",
        "img = cv2.cvtColor(cv2.imread(\"lenadark.png\"), cv2.COLOR_BGR2GRAY)\n",
        "if img is None:\n",
        "    sys.exit(\"Could not read the image.\")\n",
        "cv2_imshow(img)\n",
        "plt.hist(img.ravel(),bins=256,range=[0,255]) #ravel() transforma a imagem num vetor 1D\n",
        "plt.show()"
      ],
      "execution_count": null,
      "outputs": []
    },
    {
      "cell_type": "code",
      "metadata": {
        "id": "fvJtTqOJcXkt"
      },
      "source": [
        "import cv2\n",
        "from google.colab.patches import cv2_imshow\n",
        "import sys\n",
        "import numpy as np\n",
        "from matplotlib import pyplot as plt\n",
        "%matplotlib inline\n",
        "\n",
        "img = cv2.cvtColor(cv2.imread(\"lenabright.png\"), cv2.COLOR_BGR2GRAY)\n",
        "if img is None:\n",
        "    sys.exit(\"Could not read the image.\")\n",
        "cv2_imshow(img)\n",
        "plt.hist(img.ravel(),bins=256,range=[0,255]) #ravel() transforma a imagem num vetor 1D\n",
        "plt.show()"
      ],
      "execution_count": null,
      "outputs": []
    },
    {
      "cell_type": "markdown",
      "metadata": {
        "id": "6kkd22r_f7Ea"
      },
      "source": [
        "Voltando ao problema da imagem com baixo contraste, vamos calcular e analisar seu histograma."
      ]
    },
    {
      "cell_type": "code",
      "metadata": {
        "id": "rTMKDhahgDwS"
      },
      "source": [
        "import cv2\n",
        "from google.colab.patches import cv2_imshow\n",
        "import sys\n",
        "import numpy as np\n",
        "from matplotlib import pyplot as plt\n",
        "%matplotlib inline\n",
        "\n",
        "img = cv2.cvtColor(cv2.imread(\"lenabc.png\"), cv2.COLOR_BGR2GRAY)\n",
        "if img is None:\n",
        "    sys.exit(\"Could not read the image.\")\n",
        "cv2_imshow(img)    \n",
        "plt.hist(img.ravel(),bins=256,range=[0,255]) #ravel() transforma a imagem num vetor 1D\n",
        "plt.show()"
      ],
      "execution_count": null,
      "outputs": []
    },
    {
      "cell_type": "markdown",
      "metadata": {
        "id": "IDEYvgYwinVD"
      },
      "source": [
        "Observando este histograma, notamos que ele está muito concentrado numa determinada região. O que precisamos fazer é redistribuir melhor estas cores, \"esticando\" horizontalmente o histograma."
      ]
    },
    {
      "cell_type": "code",
      "metadata": {
        "id": "hz3JP_hekgEB",
        "colab": {
          "base_uri": "https://localhost:8080/",
          "height": 227
        },
        "outputId": "a52b3851-c968-4655-c5c9-7eba4b9f69a0"
      },
      "source": [
        "import cv2\n",
        "from google.colab.patches import cv2_imshow\n",
        "import sys\n",
        "import numpy as np\n",
        "from matplotlib import pyplot as plt\n",
        "%matplotlib inline\n",
        "\n",
        "img = cv2.imread(\"histeq.png\")\n",
        "if img is None:\n",
        "    sys.exit(\"Could not read the image.\")\n",
        "cv2_imshow(img)"
      ],
      "execution_count": null,
      "outputs": [
        {
          "output_type": "display_data",
          "data": {
            "image/png": "[encoded data removed]",
            "text/plain": [
              "<PIL.Image.Image image mode=RGB size=454x210 at 0x7F32401A10F0>"
            ]
          },
          "metadata": {
            "tags": []
          }
        }
      ]
    },
    {
      "cell_type": "markdown",
      "metadata": {
        "id": "Bix9fDBgoHU_"
      },
      "source": [
        "Esta transformação pode ser feita de uma maneira muito simples em OpenCV."
      ]
    },
    {
      "cell_type": "code",
      "metadata": {
        "id": "7kKL77efoTy8"
      },
      "source": [
        "import cv2\n",
        "from google.colab.patches import cv2_imshow\n",
        "import sys\n",
        "import numpy as np\n",
        "from matplotlib import pyplot as plt\n",
        "%matplotlib inline\n",
        "\n",
        "img = cv2.cvtColor(cv2.imread(\"lenabc.png\"), cv2.COLOR_BGR2GRAY)\n",
        "if img is None:\n",
        "    sys.exit(\"Could not read the image.\")\n",
        "cv2_imshow(img)\n",
        "plt.hist(img.ravel(),bins=256,range=[0,255]) \n",
        "plt.show()\n",
        "\n",
        "imgeq=cv2.equalizeHist(img)\n",
        "cv2_imshow(imgeq)\n",
        "plt.hist(imgeq.ravel(),bins=256,range=[0,255]) \n",
        "plt.show()\n"
      ],
      "execution_count": null,
      "outputs": []
    },
    {
      "cell_type": "markdown",
      "metadata": {
        "id": "9TbnkhJErERq"
      },
      "source": [
        "## **DESAFIO**\n",
        "\n",
        "Implementar a equalização de histograma manipulando o próprio histograma. Para isto, usar o algoritmo descrito abaixo (seção implementation).\n",
        "\n",
        "https://en.wikipedia.org/wiki/Histogram_equalization\n",
        "\n",
        "No código fornecido abaixo, hist representa o objeto do histograma. \n",
        "\n",
        "Dica: (1) Calcule primeiro a distribuição de probabilidade acumulada (cdf) do histograma\n",
        "(2) use arrays mascarados do numpy\n",
        "\n",
        "\n",
        "masked array\n",
        "\n"
      ]
    },
    {
      "cell_type": "code",
      "metadata": {
        "id": "e8N6aS8jrfMY"
      },
      "source": [
        "import cv2\n",
        "from google.colab.patches import cv2_imshow\n",
        "import sys\n",
        "import numpy as np\n",
        "from matplotlib import pyplot as plt\n",
        "%matplotlib inline\n",
        "\n",
        "img = cv2.cvtColor(cv2.imread(\"lenabc.png\"), cv2.COLOR_BGR2GRAY)\n",
        "if img is None:\n",
        "    sys.exit(\"Could not read the image.\")\n",
        "hist,bins = np.histogram(img.flatten(),256,[0,256])\n",
        "\n",
        "#seu código começa aqui\n",
        "\n",
        "\n"
      ],
      "execution_count": null,
      "outputs": []
    }
  ]
}