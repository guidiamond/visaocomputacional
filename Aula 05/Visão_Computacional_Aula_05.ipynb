{
  "nbformat": 4,
  "nbformat_minor": 0,
  "metadata": {
    "colab": {
      "name": "Visão_Computacional_Aula_05.ipynb",
      "provenance": [],
      "collapsed_sections": [],
      "toc_visible": true
    },
    "kernelspec": {
      "name": "python3",
      "display_name": "Python 3"
    }
  },
  "cells": [
    {
      "cell_type": "markdown",
      "metadata": {
        "id": "nxY7Hh85nCjZ",
        "colab_type": "text"
      },
      "source": [
        "## **VISÃO COMPUTACIONAL - AULA 05**\n",
        "\n",
        "**Objetivos da aula:**\n",
        "\n",
        "*   conhecer a transformação de thresholding\n",
        "*   praticar com o Algoritmo Global\n",
        "*   praticar com o Algoritmo de Otsu\n",
        "*   praticar com o Algoritmo Adaptativo\n",
        "\n",
        "\n",
        "\n",
        "\n",
        "\n",
        "\n",
        "\n",
        "\n"
      ]
    },
    {
      "cell_type": "markdown",
      "metadata": {
        "id": "1tYB1S0UYz0C",
        "colab_type": "text"
      },
      "source": [
        "## **TRANSFORMAÇÃO DE THRESHOLDING (LIMIARIZAÇÃO)**\n",
        "\n",
        "**Thresholding (limiarização ou binarização)** consiste na **quantização** do espaço de cores para **duas cores**, normalmente **preto e branco**. Este é um procedimento bastante comum em Processamento de Imagens e Visão Computacional antes de aplicarmos outros procedimentos como detecção de contornos, reconhecimento de formas, operações morfológicas, dentre outros.\n",
        "\n",
        "O efeito de um bom threshold é mostrado abaixo:\n"
      ]
    },
    {
      "cell_type": "code",
      "metadata": {
        "id": "gB8jYWY6GZZc",
        "colab_type": "code",
        "colab": {}
      },
      "source": [
        "import numpy as np\n",
        "import cv2 as cv\n",
        "from google.colab.patches import cv2_imshow\n",
        "\n",
        "img = cv.cvtColor(cv.imread('sudoku.jpg'), cv.COLOR_BGR2GRAY)\n",
        "imgt = cv.adaptiveThreshold(img,255,cv.ADAPTIVE_THRESH_GAUSSIAN_C,cv.THRESH_BINARY,11,2)\n",
        "cv2_imshow(img)\n",
        "cv2_imshow(imgt)"
      ],
      "execution_count": null,
      "outputs": []
    },
    {
      "cell_type": "markdown",
      "metadata": {
        "id": "ElelRCDkhKZu",
        "colab_type": "text"
      },
      "source": [
        "## **ALGORITMO BÁSICO (GLOBAL) DE THRESHOLDING**\n",
        "\n",
        "A implementação mais elementar de um algoritmo de thresholding  consiste na definição de um limiar (*threshold*). Valores abaixo deste limiar, são considerados como preto e, valores acima, considerados como brancos.\n",
        "\n",
        "Em OpenCV, isto pode ser feito segundo o exemplo abaixo, onde fixamos o limiar como 127.\n",
        "\n"
      ]
    },
    {
      "cell_type": "code",
      "metadata": {
        "id": "stv023QXh-EB",
        "colab_type": "code",
        "colab": {}
      },
      "source": [
        "import numpy as np\n",
        "import cv2 as cv\n",
        "from google.colab.patches import cv2_imshow\n",
        "\n",
        "img = cv.cvtColor(cv.imread('sudoku.jpg'), cv.COLOR_BGR2GRAY)\n",
        "T,imgt = cv.threshold(img,127,255,cv.THRESH_BINARY)\n",
        "print(\"Threshold\",T)\n",
        "cv2_imshow(img)\n",
        "cv2_imshow(imgt)"
      ],
      "execution_count": null,
      "outputs": []
    },
    {
      "cell_type": "code",
      "metadata": {
        "id": "BbTeh_QbjBmh",
        "colab_type": "code",
        "colab": {}
      },
      "source": [
        ""
      ],
      "execution_count": null,
      "outputs": []
    },
    {
      "cell_type": "markdown",
      "metadata": {
        "id": "zTxkvbumimVE",
        "colab_type": "text"
      },
      "source": [
        "## **EXERCÍCIO**\n",
        "\n",
        "Utilizando o código-base abaixo, implementar um algoritmo de thrsholding que retorne o mesmo resultado da constante cv.THRESH_BINARY, utilizando o mesmo limiar(127)."
      ]
    },
    {
      "cell_type": "code",
      "metadata": {
        "id": "mpSEVmXEjCTA",
        "colab_type": "code",
        "colab": {}
      },
      "source": [
        "import numpy as np\n",
        "import cv2 as cv\n",
        "from google.colab.patches import cv2_imshow\n",
        "\n",
        "img = cv.cvtColor(cv.imread('sudoku.jpg'), cv.COLOR_BGR2GRAY)\n",
        "rows,cols=img.shape\n",
        "#calcule a imagem imgt aqui\n",
        "cv2_imshow(img)\n",
        "cv2_imshow(imgt)"
      ],
      "execution_count": null,
      "outputs": []
    },
    {
      "cell_type": "markdown",
      "metadata": {
        "id": "GBHlOIoxkYpT",
        "colab_type": "text"
      },
      "source": [
        "## **EXERCÍCIO**\n",
        "\n",
        "O valor de limiar como 127 pode não funcionar para toda imagem. Por exemplo, para imagem mais escuras, com todos os pixels abaixo de 127, a imagem ficaria toda preta. Proponha uma estratégia para melhorar a estimativa do limiar e a implemente abaixo."
      ]
    },
    {
      "cell_type": "code",
      "metadata": {
        "id": "JDsy4vHfksZ7",
        "colab_type": "code",
        "colab": {}
      },
      "source": [
        "import numpy as np\n",
        "import cv2 as cv\n",
        "from google.colab.patches import cv2_imshow\n",
        "\n",
        "img = cv.cvtColor(cv.imread('sudoku.jpg'), cv.COLOR_BGR2GRAY)\n",
        "rows,cols=img.shape\n",
        "#calcule a imagem imgt aqui\n",
        "cv2_imshow(img)\n",
        "cv2_imshow(imgt)"
      ],
      "execution_count": null,
      "outputs": []
    },
    {
      "cell_type": "code",
      "metadata": {
        "id": "3FmlfWndlN5y",
        "colab_type": "code",
        "colab": {}
      },
      "source": [
        ""
      ],
      "execution_count": null,
      "outputs": []
    },
    {
      "cell_type": "markdown",
      "metadata": {
        "id": "TIYLM_3Fk-vU",
        "colab_type": "text"
      },
      "source": [
        "## **EXERCÍCIO**\n",
        "\n",
        "Se equalizarmos o histograma da imagem original, conseguiremos melhorar os resultados do alagoritmo básico de thresholding ?"
      ]
    },
    {
      "cell_type": "code",
      "metadata": {
        "id": "zhss7GHXlVIM",
        "colab_type": "code",
        "colab": {}
      },
      "source": [
        "import numpy as np\n",
        "import cv2 as cv\n",
        "from google.colab.patches import cv2_imshow\n",
        "\n",
        "img = cv.cvtColor(cv.imread('sudoku.jpg'), cv.COLOR_BGR2GRAY)\n",
        "rows,cols=img.shape\n",
        "#calcule a imagem imgt aqui\n",
        "cv2_imshow(img)\n",
        "cv2_imshow(imgt)"
      ],
      "execution_count": null,
      "outputs": []
    },
    {
      "cell_type": "markdown",
      "metadata": {
        "id": "nzfcAeEfpgCl",
        "colab_type": "text"
      },
      "source": [
        "## **EXERCÍCIO**\n",
        "\n",
        "Uma estratégia bem interessante antes de aplicarmos o algoritmo básico de thresholding é \"borrar\" a imagem. Abaixo, temos um exemplo de como borrar a imagem, utilizando um filtro gaussiano. Aplique o algoritmo de thresholding sobre esta imagem borrada.\n",
        "\n"
      ]
    },
    {
      "cell_type": "code",
      "metadata": {
        "id": "gwrZqaJcp-ZJ",
        "colab_type": "code",
        "colab": {}
      },
      "source": [
        "import numpy as np\n",
        "import cv2 as cv\n",
        "from google.colab.patches import cv2_imshow\n",
        "\n",
        "img = cv.cvtColor(cv.imread('sudoku.jpg'), cv.COLOR_BGR2GRAY)\n",
        "blur = cv.GaussianBlur(img,(5,5),0)\n",
        "#calcule a imagem imgt aqui\n",
        "cv2_imshow(img)\n",
        "cv2_imshow(blur)\n",
        "cv2_imshow(imgt)"
      ],
      "execution_count": null,
      "outputs": []
    },
    {
      "cell_type": "markdown",
      "metadata": {
        "id": "2lphmn_uqb0R",
        "colab_type": "text"
      },
      "source": [
        "## **ALGORITMO DE OTSU**\n",
        "\n",
        "Nesta estratégia, supomos que o histograma da imagem tenham, um comportamento bimodal. Encontramos dois picos neste histograma e calculamos a média entre eles. Esta média será o valor do nosso threshold."
      ]
    },
    {
      "cell_type": "code",
      "metadata": {
        "id": "z5o6XqYxtPWT",
        "colab_type": "code",
        "colab": {
          "base_uri": "https://localhost:8080/",
          "height": 218
        },
        "outputId": "1ec77a29-91e7-4e50-d246-65b8433fc507"
      },
      "source": [
        "import numpy as np\n",
        "import cv2 as cv\n",
        "from google.colab.patches import cv2_imshow\n",
        "img = cv.cvtColor(cv.imread('otsu.png'), cv.COLOR_BGR2GRAY)\n",
        "cv2_imshow(img)"
      ],
      "execution_count": 18,
      "outputs": [
        {
          "output_type": "display_data",
          "data": {
            "image/png": "[encoded data removed]",
            "text/plain": [
              "<PIL.Image.Image image mode=L size=276x201 at 0x7FCF23D56358>"
            ]
          },
          "metadata": {
            "tags": []
          }
        }
      ]
    },
    {
      "cell_type": "markdown",
      "metadata": {
        "id": "ld55kvBctj3t",
        "colab_type": "text"
      },
      "source": [
        "Abaixo, temos um exemplo de aplicação deste algoritmo em OpenCV:"
      ]
    },
    {
      "cell_type": "code",
      "metadata": {
        "id": "XfjycusSuvJB",
        "colab_type": "code",
        "colab": {}
      },
      "source": [
        "import numpy as np\n",
        "import cv2 as cv\n",
        "from google.colab.patches import cv2_imshow\n",
        "\n",
        "img = cv.cvtColor(cv.imread('sudoku.jpg'), cv.COLOR_BGR2GRAY)\n",
        "T,imgt = cv.threshold(img,0,255,cv.THRESH_BINARY+cv.THRESH_OTSU)\n",
        "print(\"Threshold\",T)\n",
        "cv2_imshow(img)\n",
        "cv2_imshow(imgt)"
      ],
      "execution_count": null,
      "outputs": []
    },
    {
      "cell_type": "markdown",
      "metadata": {
        "id": "8rCJW3W_xcQ_",
        "colab_type": "text"
      },
      "source": [
        "## **DESAFIO PARA CASA**\n",
        "\n",
        "Implementar o Algoritmo de Otsu para determinar o valor do threshold T. A partir deste valor, usar o algoritmo básico de thresholding."
      ]
    },
    {
      "cell_type": "code",
      "metadata": {
        "id": "SxKxpNFxxuOR",
        "colab_type": "code",
        "colab": {}
      },
      "source": [
        "#sua solução vai aqui"
      ],
      "execution_count": null,
      "outputs": []
    },
    {
      "cell_type": "markdown",
      "metadata": {
        "id": "pHctZbg4mZX1",
        "colab_type": "text"
      },
      "source": [
        "## **THRESHOLDING ADAPTATIVO**\n",
        "\n",
        "No thresholding adaptativo, ao invés de considerarmos somente a cor (nível de cinza) do pixel, consideramos uma vizinhança do pixel, aplicamos uma operação nesta vizinhança (média,borramento) e obtemos um novo valor de cor para o pixel, que pode ser modulado por uma contante C. A partir deste novo valor, aplicamos o threshold anterior.\n",
        "\n",
        "Abaixo temos um exemplo com uma vizinhança de tamanho 3 (um pixel para a direita, um pixel para a esquerda, um pixel para baixo e umpixel para cima) e constante C=4."
      ]
    },
    {
      "cell_type": "code",
      "metadata": {
        "id": "KG-cYet6oBna",
        "colab_type": "code",
        "colab": {}
      },
      "source": [
        "import numpy as np\n",
        "import cv2 as cv\n",
        "from google.colab.patches import cv2_imshow\n",
        "img = cv.cvtColor(cv.imread('sudoku.jpg'), cv.COLOR_BGR2GRAY)\n",
        "imgt = cv.adaptiveThreshold(img,255,cv.ADAPTIVE_THRESH_MEAN_C,cv.THRESH_BINARY,3,4)\n",
        "cv2_imshow(img)\n",
        "cv2_imshow(imgt)"
      ],
      "execution_count": null,
      "outputs": []
    },
    {
      "cell_type": "markdown",
      "metadata": {
        "id": "bMupCWNroq9Z",
        "colab_type": "text"
      },
      "source": [
        "## **EXERCÍCIO**\n",
        "\n",
        "Qual é a influência do tamanho da vizinhança no resultado do thresholding adaptativo ? "
      ]
    },
    {
      "cell_type": "code",
      "metadata": {
        "id": "9l_p_Tjko3pA",
        "colab_type": "code",
        "colab": {}
      },
      "source": [
        "#faça se experimento aqui"
      ],
      "execution_count": null,
      "outputs": []
    },
    {
      "cell_type": "markdown",
      "metadata": {
        "id": "3t2fr0DZwaeW",
        "colab_type": "text"
      },
      "source": [
        "Se incluirmos uma filtragem gaussiana (\"borramento\") junto com o thrasholding adaptativo, conseguimos um resultado muito melhor."
      ]
    },
    {
      "cell_type": "code",
      "metadata": {
        "id": "1wlLC-24wtqc",
        "colab_type": "code",
        "colab": {}
      },
      "source": [
        "import numpy as np\n",
        "import cv2 as cv\n",
        "from google.colab.patches import cv2_imshow\n",
        "img = cv.cvtColor(cv.imread('sudoku.jpg'), cv.COLOR_BGR2GRAY)\n",
        "imgt = cv.adaptiveThreshold(img,255,cv.ADAPTIVE_THRESH_GAUSSIAN_C,cv.THRESH_BINARY,3,5)\n",
        "cv2_imshow(img)\n",
        "cv2_imshow(imgt)"
      ],
      "execution_count": null,
      "outputs": []
    }
  ]
}