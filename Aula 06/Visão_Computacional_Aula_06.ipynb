{
  "nbformat": 4,
  "nbformat_minor": 0,
  "metadata": {
    "colab": {
      "name": "Visão_Computacional_Aula_06.ipynb",
      "provenance": [],
      "collapsed_sections": []
    },
    "kernelspec": {
      "name": "python3",
      "display_name": "Python 3"
    }
  },
  "cells": [
    {
      "cell_type": "markdown",
      "metadata": {
        "id": "nxY7Hh85nCjZ"
      },
      "source": [
        "## **VISÃO COMPUTACIONAL - AULA 06**\n",
        "\n",
        "**Objetivos da aula:**\n",
        "\n",
        "*   conhecer o problema de detecção de contorno em imagens\n",
        "*   conhecer e praticar com métodos baseados em variação de função\n",
        "*   conhecer e praticar com métodos baseados em variação de derivada primeira de função\n",
        "*   conhecer e praticar com métodos baseados em variação de derivada segunda de função\n",
        "\n",
        "\n",
        "\n",
        "\n",
        "\n",
        "\n",
        "\n",
        "\n"
      ]
    },
    {
      "cell_type": "markdown",
      "metadata": {
        "id": "1tYB1S0UYz0C"
      },
      "source": [
        "## **DETECÇÃO DE CONTORNOS (BORDOS)**\n",
        "\n",
        "Um **contorno** ou **bordo** de uma imagem 2D  é um segmento poligonal que divide regiões de intensidades distintas. Abaixo, temos um exemplo de cálculo de contorno de uma imagem 2D, realizada pelo filtro de Canny.\n"
      ]
    },
    {
      "cell_type": "code",
      "metadata": {
        "id": "zhss7GHXlVIM"
      },
      "source": [
        "import numpy as np\n",
        "import cv2 as cv\n",
        "from google.colab.patches import cv2_imshow\n",
        "from matplotlib import pyplot as plt\n",
        "\n",
        "img = cv.cvtColor(cv.imread('lena.png'), cv.COLOR_BGR2GRAY)\n",
        "edges = cv.Canny(img,100,200)\n",
        "cv2_imshow(img)\n",
        "cv2_imshow(edges)"
      ],
      "execution_count": null,
      "outputs": []
    },
    {
      "cell_type": "markdown",
      "metadata": {
        "id": "z0Qmzp2GoxIp"
      },
      "source": [
        "Existem diversas abordagens para cálculo de contornos de imagem: a própria função f(x,y) da imagem, sua derivada primeira f' e sua derivada segunda f''."
      ]
    },
    {
      "cell_type": "code",
      "metadata": {
        "id": "ssmR8hUkpGnT"
      },
      "source": [
        "import numpy as np\n",
        "import cv2 as cv\n",
        "from google.colab.patches import cv2_imshow\n",
        "from matplotlib import pyplot as plt\n",
        "\n",
        "img = cv.cvtColor(cv.imread('edges.jpg'), cv.COLOR_BGR2GRAY)\n",
        "cv2_imshow(img)"
      ],
      "execution_count": null,
      "outputs": []
    },
    {
      "cell_type": "code",
      "metadata": {
        "id": "yjQcFPF1pvQ-"
      },
      "source": [
        ""
      ],
      "execution_count": null,
      "outputs": []
    },
    {
      "cell_type": "markdown",
      "metadata": {
        "id": "uCdGo2k3pce-"
      },
      "source": [
        "## **EXERCÍCIO**\n",
        "\n",
        "Conforme visto acima, a detecção de contornos depende da variação da função da própria função f(x,y) da imagem, ou de sua derivada primeira ou mesmo de sua derivada segunda.Seu objetivo neste exercício será implementar a deteção de contornos usando somente a variação da função f(x,y):"
      ]
    },
    {
      "cell_type": "code",
      "metadata": {
        "id": "TG94kBK-qj3T"
      },
      "source": [
        "import numpy as np\n",
        "import cv2 as cv\n",
        "from google.colab.patches import cv2_imshow\n",
        "from matplotlib import pyplot as plt\n",
        "\n",
        "img = cv.cvtColor(cv.imread('lena.png'), cv.COLOR_BGR2GRAY)\n",
        "cv2_imshow(img)\n",
        "rows, cols=img.shape\n",
        "#seu código começa aqui"
      ],
      "execution_count": null,
      "outputs": []
    },
    {
      "cell_type": "markdown",
      "metadata": {
        "id": "ToVl8IVOTCo4"
      },
      "source": [
        "A variação da função também pode ser calculada através de um produto de convolução da imagem por um kernel de variação:"
      ]
    },
    {
      "cell_type": "code",
      "metadata": {
        "id": "jdMsWXB0TRFr"
      },
      "source": [
        "import numpy as np\n",
        "import cv2 as cv\n",
        "from google.colab.patches import cv2_imshow\n",
        "from matplotlib import pyplot as plt\n",
        "\n",
        "img = cv.cvtColor(cv.imread('lena.png'), cv.COLOR_BGR2GRAY)\n",
        "cv2_imshow(img)\n",
        "\n",
        "kernel = np.array((\n",
        "\t[-1, 0, 1],\n",
        "\t[-1, 0, 1],\n",
        "\t[-1, 0, 1]), dtype=\"int\")\n",
        "\n",
        "imgf= cv.filter2D(img,-1, kernel)  # -1 indica que a profundidade de cores da saída será a mesma da entrada\n",
        "cv2_imshow(imgf)\n",
        "\n",
        "\n"
      ],
      "execution_count": null,
      "outputs": []
    },
    {
      "cell_type": "markdown",
      "metadata": {
        "id": "ylWKrxr5OzSR"
      },
      "source": [
        "## **DETECÇÃO DE CONTORNOS COM A PRIMEIRA DERIVADA**\n",
        "\n",
        "O Filtro de Sobel aproxima o gradiente (derivada primeira) da função f(x,y), obtendo dois filtros de detecção de contornos: um para horizontal e outro para vertical.\n"
      ]
    },
    {
      "cell_type": "code",
      "metadata": {
        "id": "Ck8UurFVPbac",
        "colab": {
          "base_uri": "https://localhost:8080/",
          "height": 205
        },
        "outputId": "9857f666-5bbe-4e87-adb1-77c62faded4a"
      },
      "source": [
        "import numpy as np\n",
        "import cv2 as cv\n",
        "from google.colab.patches import cv2_imshow\n",
        "from matplotlib import pyplot as plt\n",
        "\n",
        "img = cv.cvtColor(cv.imread('sobel.png'), cv.COLOR_BGR2GRAY)\n",
        "cv2_imshow(img)"
      ],
      "execution_count": null,
      "outputs": [
        {
          "output_type": "display_data",
          "data": {
            "image/png": "[encoded data removed]",
            "text/plain": [
              "<PIL.Image.Image image mode=L size=167x188 at 0x7F1BAE7639B0>"
            ]
          },
          "metadata": {
            "tags": []
          }
        }
      ]
    },
    {
      "cell_type": "markdown",
      "metadata": {
        "id": "SyEorZI9P33i"
      },
      "source": [
        "Para aplicar estes dois filtros, usamos as seguintes funções em OpenCV:"
      ]
    },
    {
      "cell_type": "code",
      "metadata": {
        "id": "p2Xj0eCRQBE0"
      },
      "source": [
        "import numpy as np\n",
        "import cv2 as cv\n",
        "from google.colab.patches import cv2_imshow\n",
        "from matplotlib import pyplot as plt\n",
        "\n",
        "img = cv.cvtColor(cv.imread('lena.png'), cv.COLOR_BGR2GRAY)\n",
        "cv2_imshow(img)\n",
        "sobelx = cv.Sobel(img,cv.CV_64F,1,0)\n",
        "sobely = cv.Sobel(img,cv.CV_64F,0,1)\n",
        "cv2_imshow(sobelx)\n",
        "cv2_imshow(sobely)"
      ],
      "execution_count": null,
      "outputs": []
    },
    {
      "cell_type": "markdown",
      "metadata": {
        "id": "iiwYMm9zU1yt"
      },
      "source": [
        "## **EXERCÍCIO**\n",
        "\n",
        "Aplique os filtros de Sobel utilizando o operador de convolução da OpenCV:"
      ]
    },
    {
      "cell_type": "code",
      "metadata": {
        "id": "_xrCYPTXVC6o"
      },
      "source": [
        "#sua solução começa aqui"
      ],
      "execution_count": null,
      "outputs": []
    },
    {
      "cell_type": "markdown",
      "metadata": {
        "id": "aRZjRn3YVwRT"
      },
      "source": [
        "## **DETECÇÃO DE CONTORNOS COM O FILTRO DE CANNY**\n",
        "\n",
        "O Filtro de Canny oferece uma maneira alternativa de uso do gradiente da função, sendo um método bastante usado em OpenCV. A Teoria do Filtro de Canny encontra-se abaixo:\n",
        "\n",
        "https://opencv-python-tutroals.readthedocs.io/en/latest/py_tutorials/py_imgproc/py_canny/py_canny.html\n",
        "\n",
        "Vamos aplicá-lo novamente a imagem, como vimos no início da aula:"
      ]
    },
    {
      "cell_type": "code",
      "metadata": {
        "id": "RzrWPmYPWSmV"
      },
      "source": [
        "import numpy as np\n",
        "import cv2 as cv\n",
        "from google.colab.patches import cv2_imshow\n",
        "from matplotlib import pyplot as plt\n",
        "\n",
        "img = cv.cvtColor(cv.imread('lena.png'), cv.COLOR_BGR2GRAY)\n",
        "edges = cv.Canny(img,100,200)\n",
        "cv2_imshow(img)\n",
        "cv2_imshow(edges)"
      ],
      "execution_count": null,
      "outputs": []
    },
    {
      "cell_type": "markdown",
      "metadata": {
        "id": "e_Gn7zFnWtkd"
      },
      "source": [
        "## **EXERCÍCIO**\n",
        "\n",
        "Aplique o Filtro de Canny com diferentes valores de minVal e maxVal, observando as diferenças de aplicação:"
      ]
    },
    {
      "cell_type": "code",
      "metadata": {
        "id": "K_NHRxS8W6FY"
      },
      "source": [
        "#sua solução começa aqui"
      ],
      "execution_count": null,
      "outputs": []
    },
    {
      "cell_type": "markdown",
      "metadata": {
        "id": "sYbf2WAJRU4B"
      },
      "source": [
        "## **DETECÇÃO DE CONTORNOS COM A SEGUNDA DERIVADA**\n",
        "\n",
        "O Filtro Laplaciano aproxima o laplaciano (derivada segunda) da função f(x,y), obtendo a seguinte matriz de filtro:"
      ]
    },
    {
      "cell_type": "code",
      "metadata": {
        "id": "E3iYSdIHRjow",
        "colab": {
          "base_uri": "https://localhost:8080/",
          "height": 122
        },
        "outputId": "74eed495-0649-487e-a16a-4ee78c263047"
      },
      "source": [
        "import numpy as np\n",
        "import cv2 as cv\n",
        "from google.colab.patches import cv2_imshow\n",
        "from matplotlib import pyplot as plt\n",
        "\n",
        "img = cv.cvtColor(cv.imread('laplacian.png'), cv.COLOR_BGR2GRAY)\n",
        "cv2_imshow(img)"
      ],
      "execution_count": null,
      "outputs": [
        {
          "output_type": "display_data",
          "data": {
            "image/png": "[encoded data removed]",
            "text/plain": [
              "<PIL.Image.Image image mode=L size=118x105 at 0x7F1BAE7639B0>"
            ]
          },
          "metadata": {
            "tags": []
          }
        }
      ]
    },
    {
      "cell_type": "markdown",
      "metadata": {
        "id": "g43htvYyRnmu"
      },
      "source": [
        "Para aplicar o filtro laplaciano para detecção de bordos, usamos o seguinte código em OpenCV:"
      ]
    },
    {
      "cell_type": "code",
      "metadata": {
        "id": "iBFad0FjRwms"
      },
      "source": [
        "import numpy as np\n",
        "import cv2 as cv\n",
        "from google.colab.patches import cv2_imshow\n",
        "from matplotlib import pyplot as plt\n",
        "\n",
        "img = cv.cvtColor(cv.imread('lena.png'), cv.COLOR_BGR2GRAY)\n",
        "cv2_imshow(img)\n",
        "lap = cv.Laplacian(img,cv.CV_64F)\n",
        "cv2_imshow(lap)"
      ],
      "execution_count": null,
      "outputs": []
    },
    {
      "cell_type": "markdown",
      "metadata": {
        "id": "wwO2agFwVKyc"
      },
      "source": [
        "## **EXERCÍCIO**\n",
        "\n",
        "Aplique o filtro laplaciano utilizando o operador de convolução da OpenCV:"
      ]
    },
    {
      "cell_type": "code",
      "metadata": {
        "id": "BDWvG3q1VQaB"
      },
      "source": [
        "#sua solução começa aqui"
      ],
      "execution_count": null,
      "outputs": []
    }
  ]
}